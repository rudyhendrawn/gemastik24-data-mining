{
 "cells": [
  {
   "cell_type": "code",
   "execution_count": null,
   "metadata": {},
   "outputs": [],
   "source": [
    "import optuna\n",
    "import pandas as pd\n",
    "import seaborn as sns\n",
    "import matplotlib.pyplot as plt\n",
    "\n",
    "from sklearn.preprocessing import LabelEncoder\n",
    "from sklearn.tree import DecisionTreeClassifier\n",
    "from sklearn.ensemble import RandomForestClassifier\n",
    "from sklearn.model_selection import train_test_split, cross_val_score"
   ]
  },
  {
   "cell_type": "code",
   "execution_count": null,
   "metadata": {},
   "outputs": [],
   "source": [
    "df = pd.read_csv('src/gemastik24-data-mining/datasets/breast-cancer.csv') # Ubah sesuai dengan lokasi relatif file breast-cancer.csv\n",
    "df.head()"
   ]
  },
  {
   "cell_type": "code",
   "execution_count": null,
   "metadata": {},
   "outputs": [],
   "source": [
    "# Mengubah data kategorikal menjadi numerik\n",
    "label_encoder = LabelEncoder()\n",
    "for column in df.columns.drop('Grouping'):\n",
    "    df[column] = label_encoder.fit_transform(df[column])\n",
    "\n",
    "print(df.head())\n",
    "\n",
    "# Memisahkan atribut dan label\n",
    "X = df.drop('Grouping', axis=1)\n",
    "y = df['Grouping']\n",
    "\n",
    "# Membagi data menjadi data latih dan data uji\n",
    "X_train, X_test, y_train, y_test = train_test_split(X, y, test_size=0.2, random_state=1)\n",
    "print(\"Jumlah Data Train: {}\".format(len(X_train)))\n",
    "print(\"Jumlah Data Test: {}\".format(len(X_test)))"
   ]
  },
  {
   "cell_type": "code",
   "execution_count": null,
   "metadata": {},
   "outputs": [],
   "source": [
    "top_5 = ['Highfat', 'Working status', 'Breastfeeding', 'BMI', 'First pregnancy']\n",
    "\n",
    "def objective(trial):\n",
    "\tclassifier_name = trial.suggest_categorical(name='classifier', choices=['DecisionTree', 'RandomForest'])\n",
    "\tif classifier_name == 'DecisionTree':\n",
    "\t\tcriterion = trial.suggest_categorical(name='criterion', choices=['gini', 'entropy', 'log_loss'])\n",
    "\t\tsplitter = trial.suggest_categorical(name='splitter', choices=['best', 'random'])\n",
    "\t\tmin_samples_split = trial.suggest_int(name='min_samples_split', low=2, high=10, step=2)\n",
    "\t\tmax_depth = trial.suggest_int(name='max_depth', low=2, high=10, step=2)\n",
    "\t\tclf = DecisionTreeClassifier(\n",
    "\t\t\tcriterion=criterion,\n",
    "\t\t\tsplitter=splitter,\n",
    "\t\t\tmin_samples_split=min_samples_split,\n",
    "\t\t\tmax_depth=max_depth\n",
    "\t\t)\n",
    "\telse:\n",
    "\t\tn_estimators = trial.suggest_int(name='n_estimators', low=100, high=150, step=10)\n",
    "\t\tcriterion = trial.suggest_categorical(name='criterion', choices=['gini', 'entropy', 'log_loss'])\n",
    "\t\tmin_samples_split = trial.suggest_int(name='min_samples_split', low=2, high=10, step=2)\n",
    "\t\tmax_depth = trial.suggest_int(name='max_depth', low=2, high=10, step=2)\n",
    "\t\tclf = RandomForestClassifier(\n",
    "\t\t\tn_estimators=n_estimators,\n",
    "\t\t\tcriterion=criterion,\n",
    "\t\t\tmin_samples_split=min_samples_split,\n",
    "\t\t\tmax_depth=max_depth\n",
    "\t\t)\n",
    "\n",
    "\tscore = cross_val_score(clf, X_train[top_5], y_train, n_jobs=-1, cv=3)\n",
    "\taccuracy = score.mean()\n",
    "\treturn accuracy\n",
    "\n",
    "study = optuna.create_study(\n",
    "\tdirection='maximize',\n",
    "\tstudy_name='Breast Cancer Classifier',\n",
    "\tstorage='sqlite:///breast_cancer.db',\n",
    "\tload_if_exists=True,\n",
    ")\n",
    "\n",
    "study.optimize(objective, n_trials=100)\n",
    "print(f\"Best value: {study.best_value} with best params: {study.best_params}\")"
   ]
  }
 ],
 "metadata": {
  "kernelspec": {
   "display_name": "data-analysis",
   "language": "python",
   "name": "python3"
  },
  "language_info": {
   "codemirror_mode": {
    "name": "ipython",
    "version": 3
   },
   "file_extension": ".py",
   "mimetype": "text/x-python",
   "name": "python",
   "nbconvert_exporter": "python",
   "pygments_lexer": "ipython3",
   "version": "3.10.9"
  }
 },
 "nbformat": 4,
 "nbformat_minor": 2
}
